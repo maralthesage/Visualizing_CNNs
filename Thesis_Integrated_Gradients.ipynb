{
  "nbformat": 4,
  "nbformat_minor": 0,
  "metadata": {
    "colab": {
      "provenance": [],
      "mount_file_id": "1gXf_4qEODWXV2nlaSYOdhmPKWBFT7iKP",
      "authorship_tag": "ABX9TyNmrp52JFShrlc/oimVOr+g",
      "include_colab_link": true
    },
    "kernelspec": {
      "name": "python3",
      "display_name": "Python 3"
    },
    "language_info": {
      "name": "python"
    },
    "accelerator": "GPU",
    "gpuClass": "standard"
  },
  "cells": [
    {
      "cell_type": "markdown",
      "metadata": {
        "id": "view-in-github",
        "colab_type": "text"
      },
      "source": [
        "<a href=\"https://colab.research.google.com/github/maralthesage/visualizing_cnns/blob/main/Thesis_Integrated_Gradients.ipynb\" target=\"_parent\"><img src=\"https://colab.research.google.com/assets/colab-badge.svg\" alt=\"Open In Colab\"/></a>"
      ]
    },
    {
      "cell_type": "markdown",
      "metadata": {
        "id": "vNQiSujBfjWj"
      },
      "source": [
        "## Integrated Gradients\n",
        "\n",
        "Some parts of this code are adopted from https://github.com/PAIR-code/saliency repository of saliency map and the code is also used as the following package to run the integrated ingredient visualization over the data."
      ]
    },
    {
      "cell_type": "markdown",
      "source": [
        "The following code will install `saliency` library on your colab for later using Ingtegrated Gradients method of it in our visualization."
      ],
      "metadata": {
        "id": "oE0jL3BSnrt2"
      }
    },
    {
      "cell_type": "code",
      "source": [
        "!pip install saliency"
      ],
      "metadata": {
        "id": "KcpAch1gW91k"
      },
      "execution_count": null,
      "outputs": []
    },
    {
      "cell_type": "code",
      "execution_count": 2,
      "metadata": {
        "id": "X86LKLvpBO2S"
      },
      "outputs": [],
      "source": [
        "import tensorflow as tf\n",
        "import numpy as np\n",
        "import PIL.Image\n",
        "import matplotlib.pyplot as plt\n",
        "import saliency.core as saliency\n",
        "from saliency.metrics import pic\n"
      ]
    },
    {
      "cell_type": "markdown",
      "metadata": {
        "id": "th4dA3I8-9Ue"
      },
      "source": [
        "### Choosing the Model\n",
        "\n",
        "In the following codeblock you can pick the model and the training mode in which you want to have the visualizations, the options for `model_name` are:\n",
        "\n",
        "- VGG\n",
        "- MN\n",
        "- IN\n",
        "\n",
        "and the options for `mode` are:\n",
        "\n",
        "- TR (for training from scratch)\n",
        "- FX (for feature extraction)\n",
        "- FT (for fine-tuning)\n",
        "\n",
        "Also please change the path address to the one in your drive or where you are reading the files from. (in case the files are in your Google Drive, the address can be easily found after mounting your drive for which the code I leave here as commented.\n"
      ]
    },
    {
      "cell_type": "code",
      "source": [
        "# from google.colab import drive\n",
        "# drive.mount('/content/drive')"
      ],
      "metadata": {
        "id": "916BRPrImU8Z"
      },
      "execution_count": null,
      "outputs": []
    },
    {
      "cell_type": "code",
      "source": [
        "## choose the Model and the modes of training from the following list ==> \n",
        "## ['VGG-FT','VGG-FX','VGG-TR', 'MN-FT','MN-FX','MN-TR', 'IN-FT','IN-FX','IN-TR']\n",
        "path = \"/content/drive/MyDrive/Colab Notebooks/Models\"\n",
        "mode = 'TR'\n",
        "model_name = 'MN'\n",
        "\n",
        "## models' paths are relative and the following address needs to be changed.\n",
        "models_path = f'{path}/{model_name}-{mode}'"
      ],
      "metadata": {
        "id": "WnNnI_V1awb1"
      },
      "execution_count": 3,
      "outputs": []
    },
    {
      "cell_type": "markdown",
      "source": [
        "Here, we load the model and the preprocessing method depending on the `model_name` picked above."
      ],
      "metadata": {
        "id": "gjYbawRPmnCy"
      }
    },
    {
      "cell_type": "code",
      "source": [
        "model = tf.keras.models.load_model(models_path)\n",
        "\n",
        "if 'VGG' in model_name:\n",
        "  IMG_SIZE = 224\n",
        "  preprocess_input = tf.keras.applications.vgg16.preprocess_input\n",
        "\n",
        "elif 'MN' in model_name:\n",
        "  IMG_SIZE = 224\n",
        "  preprocess_input = tf.keras.applications.mobilenet.preprocess_input\n",
        "  \n",
        "elif 'IN' in model_name:\n",
        "  IMG_SIZE = 299\n",
        "  preprocess_input = tf.keras.applications.inception_v3.preprocess_input\n",
        "\n",
        "\n",
        "# model.summary()"
      ],
      "metadata": {
        "id": "ewSvvx7ksObH"
      },
      "execution_count": 4,
      "outputs": []
    },
    {
      "cell_type": "markdown",
      "source": [
        "The Classes from the data are listed below in order for printing out the label of images during the visualization. `true_label()` helps with translating the image_paths to the label of each image."
      ],
      "metadata": {
        "id": "9LQTsAwSmzNo"
      }
    },
    {
      "cell_type": "code",
      "source": [
        "class_names = ['Apple___Apple_scab',\n",
        " 'Apple___Black_rot',\n",
        " 'Apple___Cedar_apple_rust',\n",
        " 'Apple___healthy',\n",
        " 'Blueberry___healthy',\n",
        " 'Cherry_(including_sour)___Powdery_mildew',\n",
        " 'Cherry_(including_sour)___healthy',\n",
        " 'Corn_(maize)___Cercospora_leaf_spot Gray_leaf_spot',\n",
        " 'Corn_(maize)___Common_rust_',\n",
        " 'Corn_(maize)___Northern_Leaf_Blight',\n",
        " 'Corn_(maize)___healthy',\n",
        " 'Grape___Black_rot',\n",
        " 'Grape___Esca_(Black_Measles)',\n",
        " 'Grape___Leaf_blight_(Isariopsis_Leaf_Spot)',\n",
        " 'Grape___healthy',\n",
        " 'Orange___Haunglongbing_(Citrus_greening)',\n",
        " 'Peach___Bacterial_spot',\n",
        " 'Peach___healthy',\n",
        " 'Pepper,_bell___Bacterial_spot',\n",
        " 'Pepper,_bell___healthy',\n",
        " 'Potato___Early_blight',\n",
        " 'Potato___Late_blight',\n",
        " 'Potato___healthy',\n",
        " 'Raspberry___healthy',\n",
        " 'Soybean___healthy',\n",
        " 'Squash___Powdery_mildew',\n",
        " 'Strawberry___Leaf_scorch',\n",
        " 'Strawberry___healthy',\n",
        " 'Tomato___Bacterial_spot',\n",
        " 'Tomato___Early_blight',\n",
        " 'Tomato___Late_blight',\n",
        " 'Tomato___Leaf_Mold',\n",
        " 'Tomato___Septoria_leaf_spot',\n",
        " 'Tomato___Spider_mites Two-spotted_spider_mite',\n",
        " 'Tomato___Target_Spot',\n",
        " 'Tomato___Tomato_Yellow_Leaf_Curl_Virus',\n",
        " 'Tomato___Tomato_mosaic_virus',\n",
        " 'Tomato___healthy']"
      ],
      "metadata": {
        "id": "wXzkAkLuOnCG"
      },
      "execution_count": 5,
      "outputs": []
    },
    {
      "cell_type": "code",
      "source": [
        "## a function to print out the name of the class of interest\n",
        "def true_label(filepath):\n",
        "  for name in class_names:\n",
        "    if name in filepath:\n",
        "      return name"
      ],
      "metadata": {
        "id": "Uf5qg4_VKDhK"
      },
      "execution_count": 7,
      "outputs": []
    },
    {
      "cell_type": "markdown",
      "source": [
        "Here you need to change the file_paths to the one relative to where you keep the test_dataset. the rest of the address is the same for the images. Please keep in mind the ending `/` at the end of the file_paths."
      ],
      "metadata": {
        "id": "vHXgqow7nAHA"
      }
    },
    {
      "cell_type": "code",
      "source": [
        "## this path is relative to where you download and save the test_dataset file i shared as comment on top of this notebook\n",
        "file_paths = '/content/drive/MyDrive/images/'\n",
        "img_paths = [\n",
        " f'{file_paths}Strawberry___healthy/15b5d300-a3f7-4e46-9f33-47f99c5d8364___RS_HL 4832.JPG',\n",
        " f'{file_paths}Strawberry___Leaf_scorch/d306834f-2362-49bc-aadb-8da5364d88f1___RS_L.Scorch 1334.JPG',\n",
        " f'{file_paths}Tomato___Leaf_Mold/528ee5e6-6c7f-4676-9fe2-fe3956a73b00___Crnl_L.Mold 6739.JPG',\n",
        " f'{file_paths}Peach___Bacterial_spot/316b51d9-ffb1-4ccd-ad84-62fe1d1d3e4d___Rut._Bact.S 1042.JPG',\n",
        " f'{file_paths}Apple___Cedar_apple_rust/f90bff66-b339-4a6f-acf4-85ed13aebff8___FREC_C.Rust 9843-horizontalflip.JPG',\n",
        " f'{file_paths}Tomato___Tomato_Yellow_Leaf_Curl_Virus/36f918e5-8c49-4820-a2fe-f3355e9f95e4___YLCV_NREC 2537.JPG',\n",
        " f'{file_paths}Potato___healthy/b925ad3e-fc49-497d-a6eb-115f0de20800___RS_HL 4170.JPG',\n",
        " f'{file_paths}Potato___Late_blight/d994fd7e-a338-42c5-ac37-ede01c18999e___RS_LB 5134.JPG',\n",
        " f'{file_paths}Tomato___healthy/4ed0a372-fe3d-49a6-82a1-2e904e6c66e3___GH_HL Leaf 200-horizontalflip.JPG',\n",
        " f'{file_paths}Corn_(maize)___Northern_Leaf_Blight/ccb8b8c4-840f-44b4-9a6e-43109f828b8c___RS_NLB 4091.JPG',\n",
        " f'{file_paths}Tomato___Target_Spot/e6c089fa-5b16-46e6-a8d9-f742377b43a8___Com.G_TgS_FL 8352.JPG',\n",
        " f'{file_paths}Apple___Apple_scab/fa9c1112-27fc-42db-930d-7e4956267ab5___FREC_Scab 3174.JPG', \n",
        " f'{file_paths}Soybean___healthy/073d9dd0-012e-468d-96b9-494cb684d802___RS_HL 3563.JPG',\n",
        " f'{file_paths}Grape___Leaf_blight_(Isariopsis_Leaf_Spot)/e93f37ed-7dfd-401f-a470-0f932fecdd75___FAM_L.Blight 3637.JPG',\n",
        " f'{file_paths}Orange___Haunglongbing_(Citrus_greening)/08b7e039-7264-4a3d-b7d6-6e13c5bbac56___CREC_HLB 7417.JPG',\n",
        " f'{file_paths}Squash___Powdery_mildew/67c186ab-1874-4500-ae6b-9a575c8dcb42___MD_Powd.M 0752.JPG',\n",
        " f'{file_paths}Corn_(maize)___Cercospora_leaf_spot Gray_leaf_spot/d1f96a7c-c108-45a4-82f6-ffe84b0d081f___RS_GLSp 9304.JPG',\n",
        " f'{file_paths}Cherry_(including_sour)___Powdery_mildew/84ff1c46-5c01-4136-bef5-59cd2d0ed812___FREC_Pwd.M 0572.JPG',\n",
        " f'{file_paths}Corn_(maize)___Common_rust_/RS_Rust 1869.JPG',\n",
        " f'{file_paths}Pepper,_bell___Bacterial_spot/e05d9bf6-8d96-4fb5-8ea4-b9bab9e9bb8f___JR_B.Spot 3142.JPG',\n",
        " f'{file_paths}Pepper,_bell___healthy/2d117ef0-5705-4814-b191-1d184204452f___JR_HL 7744.JPG',\n",
        " f'{file_paths}Tomato___Late_blight/121097dd-b0cb-436b-9b2f-7dab30c86872___GHLB_PS Leaf 37.1 Day 13.jpg']"
      ],
      "metadata": {
        "id": "L2BSJ5ulSyqK"
      },
      "execution_count": 6,
      "outputs": []
    },
    {
      "cell_type": "markdown",
      "source": [
        "### Integrated Ingredients visualization codes\n",
        "\n",
        "The code below will prepare the Integrated Gradients visualizations from the above-selected lists of images. Nothing needs modification in the next three code blocks below."
      ],
      "metadata": {
        "id": "LkI7y5ozdu0i"
      }
    },
    {
      "cell_type": "code",
      "source": [
        "def show_image(im, title='', ax=None):\n",
        "  if ax is None:\n",
        "    fig, ax = plt.subplots(figsize=(6, 6))\n",
        "  ax.axis('off')\n",
        "  ax.imshow(im)\n",
        "  ax.set_title(title)\n",
        "\n",
        "\n",
        "def show_grayscale_image(im, title='', ax=None):\n",
        "  if ax is None:\n",
        "    plt.figure()\n",
        "  plt.axis('off')\n",
        "\n",
        "  plt.imshow(im, cmap=plt.cm.inferno, vmin=0, vmax=1)\n",
        "  plt.title(title)\n",
        "\n",
        "def load_image(file_path):\n",
        "  im = PIL.Image.open(file_path)\n",
        "  im = im.resize((IMG_SIZE, IMG_SIZE))\n",
        "  im = np.asarray(im)\n",
        "  return im\n",
        "\n",
        "\n",
        "def preprocess_image(im):\n",
        "  if model_name == 'MN':\n",
        "    im = tf.keras.applications.mobilenet.preprocess_input(im)\n",
        "  elif model_name == 'VGG':\n",
        "    im = tf.keras.applications.vgg16.preprocess_input(im)\n",
        "  elif model_name == 'IN':\n",
        "    im = tf.keras.applications.inception_v3.preprocess_input(im)\n",
        "  return im"
      ],
      "metadata": {
        "id": "xAOoYTiRXFJv"
      },
      "execution_count": 8,
      "outputs": []
    },
    {
      "cell_type": "code",
      "source": [
        "class_idx_str = 'class_idx_str'\n",
        "\n",
        "def call_model_function(images, call_model_args=None, expected_keys=None):\n",
        "  target_class_idx = call_model_args[class_idx_str]\n",
        "  images = tf.convert_to_tensor(images)\n",
        "  with tf.GradientTape() as tape:\n",
        "    if expected_keys == [saliency.base.INPUT_OUTPUT_GRADIENTS]:\n",
        "      tape.watch(images)\n",
        "      output_layer = model(images)\n",
        "      output_layer = output_layer[:, target_class_idx]\n",
        "      gradients = np.array(tape.gradient(output_layer, images))\n",
        "      return {saliency.base.INPUT_OUTPUT_GRADIENTS: gradients}"
      ],
      "metadata": {
        "id": "sRpjUdpgawbM"
      },
      "execution_count": 9,
      "outputs": []
    },
    {
      "cell_type": "code",
      "source": [
        "count = 0\n",
        "for id, img_path in enumerate(img_paths):\n",
        "  count+=1\n",
        "\n",
        "  # Load the image\n",
        "  im_orig = load_image(img_path)\n",
        "  im = preprocess_image(im_orig)\n",
        "\n",
        "  predictions = model(np.array([im]))\n",
        "  prediction_class = np.argmax(predictions[0])\n",
        "  call_model_args = {class_idx_str: prediction_class}\n",
        "\n",
        "  guided_ig = saliency.IntegratedGradients()\n",
        "\n",
        "  # Baseline is a black image.\n",
        "  baseline = np.zeros(im.shape)\n",
        "\n",
        "  # Compute the Guided IG saliency.\n",
        "  guided_ig_mask_3d = guided_ig.GetMask(\n",
        "      im, call_model_function, call_model_args, x_steps=25, x_baseline=baseline)\n",
        "\n",
        "  # Call the visualization methods to convert the 3D tensors to 2D grayscale.\n",
        "  guided_ig_mask_grayscale = saliency.VisualizeImageGrayscale(guided_ig_mask_3d)\n",
        "\n",
        "  plt.figure()\n",
        "  show_grayscale_image(guided_ig_mask_grayscale, ax= None)\n",
        "  print(f'Label: {true_label(img_path)}')\n",
        "  plt.show();"
      ],
      "metadata": {
        "id": "lgbjEO0Ma_re"
      },
      "execution_count": null,
      "outputs": []
    }
  ]
}