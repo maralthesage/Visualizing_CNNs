{
  "nbformat": 4,
  "nbformat_minor": 0,
  "metadata": {
    "colab": {
      "provenance": [],
      "mount_file_id": "1m7VPCm0rP4ATrkdxbtdCKYmT43HQYQdF",
      "authorship_tag": "ABX9TyMlMmGL/rGQvrV023GebP23",
      "include_colab_link": true
    },
    "kernelspec": {
      "name": "python3",
      "display_name": "Python 3"
    },
    "language_info": {
      "name": "python"
    }
  },
  "cells": [
    {
      "cell_type": "markdown",
      "metadata": {
        "id": "view-in-github",
        "colab_type": "text"
      },
      "source": [
        "<a href=\"https://colab.research.google.com/github/maralthesage/visualizing_cnns/blob/main/SSIM_thesis.ipynb\" target=\"_parent\"><img src=\"https://colab.research.google.com/assets/colab-badge.svg\" alt=\"Open In Colab\"/></a>"
      ]
    },
    {
      "cell_type": "markdown",
      "source": [
        "# SSIM Visualization\n",
        "\n",
        "The following code will plot SSIM scores using `scikit-image` method called `structrual_similarity`. The `folder_paths` in the following block needs to be modified according to where the visualizations are.\n",
        "\n",
        "The `viz_method` is one of the following:\n",
        "\n",
        "* GradCAM\n",
        "* Occlusion\n",
        "* IG\n",
        "\n",
        "and the `model_name` is one of the following:\n",
        "\n",
        "* VGG\n",
        "* MN\n",
        "* IN\n",
        "\n",
        "The rest of the code blocks can be run without modification and only the last one will output the plot."
      ],
      "metadata": {
        "id": "O1SY6_-98V6P"
      }
    },
    {
      "cell_type": "code",
      "execution_count": 1,
      "metadata": {
        "id": "myXIGAC7zhWu"
      },
      "outputs": [],
      "source": [
        "import numpy as np\n",
        "import matplotlib.pyplot as plt\n",
        "from skimage.metrics import structural_similarity\n",
        "import cv2\n",
        "import os"
      ]
    },
    {
      "cell_type": "code",
      "source": [
        "viz_method = 'IG'\n",
        "model_name = 'MN'\n",
        "folder_paths = \"/content/drive/SomeFolder/outputs\"\n",
        "\n",
        "tr_folder = f'{folder_paths}/{viz_method}/{model_name}-TR'\n",
        "ft_folder = f'{folder_paths}/{viz_method}/{model_name}-FT'\n",
        "fx_folder = f'{folder_paths}/{viz_method}/{model_name}-FX'\n",
        "\n",
        "\n"
      ],
      "metadata": {
        "id": "HlVUnIAyzxrJ"
      },
      "execution_count": 16,
      "outputs": []
    },
    {
      "cell_type": "code",
      "source": [
        "# Load the two images to be compared\n",
        "ft_arrays, tr_arrays, fx_arrays = [], [], []\n",
        "\n",
        "for id, ft_files in enumerate(os.listdir(ft_folder)):\n",
        "  tr_files = os.listdir(tr_folder)[id]\n",
        "  fx_files = os.listdir(fx_folder)[id]\n",
        "\n",
        "\n",
        "  ft_file_to_array = cv2.imread(ft_folder+'/'+ft_files)\n",
        "  ft_arrays.append(ft_file_to_array)\n",
        "  tr_file_to_array = cv2.imread(tr_folder+'/'+tr_files)\n",
        "  tr_arrays.append(tr_file_to_array)\n",
        "  fx_file_to_array = cv2.imread(fx_folder+'/'+fx_files)\n",
        "  fx_arrays.append(fx_file_to_array)\n",
        "\n"
      ],
      "metadata": {
        "id": "FT78vXtY0WZ1"
      },
      "execution_count": 17,
      "outputs": []
    },
    {
      "cell_type": "code",
      "source": [
        "\n",
        "list_of_diffs = ['fx-ft','ft-tr','tr-fx']\n",
        "all_scores = []\n",
        "diff_means = []\n",
        "\n",
        "\n",
        "for id in range(len(ft_arrays)):\n",
        "  scores = []\n",
        "\n",
        "\n",
        "  # # # make images Grayscale\n",
        "  image1 = cv2.cvtColor(ft_arrays[id], cv2.COLOR_BGR2GRAY)\n",
        "  image2 = cv2.cvtColor(tr_arrays[id], cv2.COLOR_BGR2GRAY)\n",
        "  image3 = cv2.cvtColor(fx_arrays[id], cv2.COLOR_BGR2GRAY)\n",
        "\n",
        "\n",
        " # Compute the SSIM between the two images\n",
        "  images = [image1,image2,image3]\n",
        "  ssims = []\n",
        "\n",
        "  for id in range(3):\n",
        "      (score, ssim) = structural_similarity(images[id-1], images[id], full=True)  \n",
        "      scores.append(score)\n",
        "      ssims.append(ssim)\n",
        "      diff_means.append(scores)\n",
        "\n",
        "\n"
      ],
      "metadata": {
        "id": "NB8MV3Ky1PFC"
      },
      "execution_count": 18,
      "outputs": []
    },
    {
      "cell_type": "code",
      "source": [
        "mean_scores = np.mean(diff_means, axis=0)\n",
        "plt.figure()\n",
        "\n",
        "for item in diff_means:\n",
        "  plt.scatter(list_of_diffs,item)\n",
        "\n",
        "plt.title(f'Structural Similarity Distance in {viz_method} Results for {model_name}')\n",
        "plt.plot(list_of_diffs,mean_scores)"
      ],
      "metadata": {
        "id": "kVKo72MFGU-O"
      },
      "execution_count": null,
      "outputs": []
    }
  ]
}